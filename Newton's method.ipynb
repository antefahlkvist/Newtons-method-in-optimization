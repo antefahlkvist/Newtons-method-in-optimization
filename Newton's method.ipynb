{
 "cells": [
  {
   "cell_type": "markdown",
   "id": "9b2964e6",
   "metadata": {},
   "source": [
    "Implement Newton's method for minimizing the function:\n",
    "\n",
    "$f(x) = \\frac{1}{2} x^T Q x - \\sum_{i = 1}^n \\log(x_i)$.\n",
    "\n",
    "Here $x \\in R^n$ is the variable and $Q \\in S^n$ is a positive definite matrix. To generate the problem data $Q$, let $Q = B^T B$ for some random $B \\in R^{n \\times n}$."
   ]
  },
  {
   "cell_type": "code",
   "execution_count": 1,
   "id": "bcc01e28",
   "metadata": {},
   "outputs": [],
   "source": [
    "#pip install numpy\n"
   ]
  },
  {
   "cell_type": "code",
   "execution_count": 2,
   "id": "8f271c4e",
   "metadata": {},
   "outputs": [],
   "source": [
    "import numpy as np"
   ]
  },
  {
   "cell_type": "code",
   "execution_count": 3,
   "id": "0dd4ebb6",
   "metadata": {},
   "outputs": [],
   "source": [
    "#Define the objective function\n",
    "\n",
    "def f(x, Q):\n",
    "    return 0.5 * x.T @ Q @ x - np.sum(np.log(x))\n"
   ]
  },
  {
   "cell_type": "code",
   "execution_count": 4,
   "id": "128fe43e",
   "metadata": {},
   "outputs": [],
   "source": [
    "#Define the gradient of the objective function\n",
    "\n",
    "def gradient_f(x, Q):\n",
    "    return Q @ x - 1/x\n"
   ]
  },
  {
   "cell_type": "code",
   "execution_count": 5,
   "id": "22b9a749",
   "metadata": {},
   "outputs": [],
   "source": [
    "#Define the Hessian of the objective function\n",
    "\n",
    "def hessian_f(x, Q):\n",
    "    n = len(x)\n",
    "    H = np.zeros((n, n))\n",
    "    for i in range(n):\n",
    "        H[i, i] = 1 / x[i]**2\n",
    "    return Q + H\n"
   ]
  },
  {
   "cell_type": "code",
   "execution_count": 9,
   "id": "4a972dd7",
   "metadata": {},
   "outputs": [],
   "source": [
    "#Define Newton's method for optimization\n",
    "\n",
    "def newtons_method(x_init, Q, tol = 1e-10, max_iter = 100):\n",
    "    \n",
    "    x = x_init\n",
    "    alpha = 0.2\n",
    "    beta = 0.5\n",
    "    \n",
    "    for _ in range(max_iter):\n",
    "        grad = gradient_f(x, Q)\n",
    "        hess = hessian_f(x, Q)\n",
    "        newton_step = -np.linalg.solve(hess, grad) #calculate newton step\n",
    "\n",
    "        newton_step_norm = np.linalg.norm(newton_step)\n",
    "        stop_criterion = (newton_step_norm ** 2)/2 #calculate stop criterion, a.k.a lambda squared divided by two\n",
    "        print(\"Decrement:\", stop_criterion)\n",
    "        if stop_criterion <= tol: #exit newtons method if the stop criterion is smaller than our tolerance level \n",
    "            break\n",
    "        \n",
    "        #if we the norm of the newton step isn't sufficiently small we iterate with step length t\n",
    "        #making sure no component exit the dominion of x by adjusting step length t\n",
    "        t = 1.0 #initial step length\n",
    "        while True:\n",
    "            x_new = x + t*newton_step #calculate new x\n",
    "            if np.all(x_new > 0): #if all components are larger than zero we perform backtracking line search with alpha and beta\n",
    "                while f(x_new, Q) > f(x, Q) + alpha*t*grad.T @ newton_step: #perform back tracking line search for as long as the new x does not give us a better function value\n",
    "                    t *= beta \n",
    "                    x_new = x + t*newton_step \n",
    "                x = x_new \n",
    "                break #the outer while loop is broken as we have found an x that is in the dominion and minimizes the objective function\n",
    "            else: #if the new x has components that are not larger than zero we decrease t\n",
    "                t /= 2\n",
    "              \n",
    "    return x\n",
    "        "
   ]
  },
  {
   "cell_type": "code",
   "execution_count": 10,
   "id": "0dab1693",
   "metadata": {},
   "outputs": [],
   "source": [
    "#Define the conditions for your problem\n",
    "\n",
    "#size of problem\n",
    "n = 40 \n",
    "\n",
    "#initial point\n",
    "x0 = np.ones((n, 1))\n",
    "\n",
    "#generate a symmetric positive definite matrix Q\n",
    "B = np.random.rand(n, n)\n",
    "Q = np.dot(B.T, B)\n"
   ]
  },
  {
   "cell_type": "code",
   "execution_count": 11,
   "id": "1a1430d8",
   "metadata": {},
   "outputs": [
    {
     "name": "stdout",
     "output_type": "stream",
     "text": [
      "Decrement: 19.724592533757537\n",
      "Decrement: 4.963886016013408\n",
      "Decrement: 1.1357600710916702\n",
      "Decrement: 0.22681776765279157\n",
      "Decrement: 0.0036031175382542366\n",
      "Decrement: 0.0005034597733011413\n",
      "Decrement: 9.605609563984861e-06\n",
      "Decrement: 1.4669411783824382e-08\n",
      "Decrement: 1.1154853412073588e-13\n",
      "The vector x that minimizes the objective function is \n",
      " [[0.04710608]\n",
      " [0.05037386]\n",
      " [0.05473549]\n",
      " [0.04823807]\n",
      " [0.05002684]\n",
      " [0.05540973]\n",
      " [0.04970513]\n",
      " [0.05117896]\n",
      " [0.05132844]\n",
      " [0.04950053]\n",
      " [0.05173252]\n",
      " [0.0475053 ]\n",
      " [0.048586  ]\n",
      " [0.0527591 ]\n",
      " [0.05853334]\n",
      " [0.05572358]\n",
      " [0.05518614]\n",
      " [0.05151526]\n",
      " [0.04961155]\n",
      " [0.05226168]\n",
      " [0.04545397]\n",
      " [0.04859415]\n",
      " [0.04482919]\n",
      " [0.05510214]\n",
      " [0.04837074]\n",
      " [0.05410122]\n",
      " [0.04606649]\n",
      " [0.04659593]\n",
      " [0.0465651 ]\n",
      " [0.04710137]\n",
      " [0.04993004]\n",
      " [0.05163621]\n",
      " [0.04460588]\n",
      " [0.0561472 ]\n",
      " [0.05562946]\n",
      " [0.05939646]\n",
      " [0.05326215]\n",
      " [0.04699898]\n",
      " [0.04846618]\n",
      " [0.04966664]]\n",
      "The function value of that vector x is equal to \n",
      " [[139.34967024]]\n"
     ]
    }
   ],
   "source": [
    "#Solve the problem using Newton's method\n",
    "\n",
    "x_optimal = newtons_method(x0, Q)\n",
    "\n",
    "print(\"The vector x that minimizes the objective function is \\n\", x_optimal)\n",
    "print(\"The function value of that vector x is equal to \\n\", f(x_optimal, Q))\n",
    "\n"
   ]
  }
 ],
 "metadata": {
  "kernelspec": {
   "display_name": "Python 3 (ipykernel)",
   "language": "python",
   "name": "python3"
  },
  "language_info": {
   "codemirror_mode": {
    "name": "ipython",
    "version": 3
   },
   "file_extension": ".py",
   "mimetype": "text/x-python",
   "name": "python",
   "nbconvert_exporter": "python",
   "pygments_lexer": "ipython3",
   "version": "3.11.1"
  }
 },
 "nbformat": 4,
 "nbformat_minor": 5
}
