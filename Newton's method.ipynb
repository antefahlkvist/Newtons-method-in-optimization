{
 "cells": [
  {
   "cell_type": "markdown",
   "id": "9b2964e6",
   "metadata": {},
   "source": [
    "Implement Newton's method for minimizing the function:\n",
    "\n",
    "$f(x) = \\frac{1}{2} x^T Q x - \\sum_{i = 1}^n log(x_i)$.\n",
    "\n",
    "Here $x \\in R^n$ is the variable and $Q \\in S^n$ is a positive definite matrix. To generate the problem data $Q$, let $Q = B^T B$ for some random $B \\in R^{n \\times n}$."
   ]
  },
  {
   "cell_type": "code",
   "execution_count": 14,
   "id": "bcc01e28",
   "metadata": {},
   "outputs": [],
   "source": [
    "#pip install numpy\n"
   ]
  },
  {
   "cell_type": "code",
   "execution_count": 15,
   "id": "8f271c4e",
   "metadata": {},
   "outputs": [],
   "source": [
    "import numpy as np"
   ]
  },
  {
   "cell_type": "code",
   "execution_count": 16,
   "id": "0dd4ebb6",
   "metadata": {},
   "outputs": [],
   "source": [
    "#Define the objective function\n",
    "\n",
    "def f(x, Q):\n",
    "    return 0.5 * x.T @ Q @ x - np.sum(np.log(x))\n"
   ]
  },
  {
   "cell_type": "code",
   "execution_count": 17,
   "id": "128fe43e",
   "metadata": {},
   "outputs": [],
   "source": [
    "#Define the gradient of the objective function\n",
    "\n",
    "def gradient_f(x, Q):\n",
    "    return Q @ x - 1/x\n"
   ]
  },
  {
   "cell_type": "code",
   "execution_count": 18,
   "id": "22b9a749",
   "metadata": {},
   "outputs": [],
   "source": [
    "#Define the Hessian of the objective function\n",
    "\n",
    "def hessian_f(x, Q):\n",
    "    n = len(x)\n",
    "    H = np.zeros((n, n))\n",
    "    for i in range(n):\n",
    "        H[i, i] = 1 / x[i]**2\n",
    "    return Q + H\n"
   ]
  },
  {
   "cell_type": "code",
   "execution_count": 19,
   "id": "4a972dd7",
   "metadata": {},
   "outputs": [],
   "source": [
    "#Define Newton's method for optimization\n",
    "\n",
    "def newtons_method(x_init, Q, tol = 1e-10, max_iter = 100):\n",
    "    \n",
    "    x = x_init\n",
    "    alpha = 0.2\n",
    "    beta = 0.5\n",
    "    \n",
    "    for _ in range(max_iter):\n",
    "        grad = gradient_f(x, Q)\n",
    "        hess = hessian_f(x, Q)\n",
    "        newton_step = -np.linalg.solve(hess, grad) #calculate newton step\n",
    "        newton_step_norm = np.linalg.norm(newton_step)\n",
    "        stop_criterion = (newton_step_norm ** 2)/2 #calculate stop criterion, a.k.a lambda squared divided by two\n",
    "        if stop_criterion <= tol: #exit newtons method if the stop criterion is smaller than our tolerance level \n",
    "            break\n",
    "        \n",
    "        #if we the norm of the newton step isn't sufficiently small we iterate with step length t\n",
    "        #making sure no component exit the dominion of x by adjusting step length t\n",
    "        t = 1.0 #initial step length\n",
    "        while True:\n",
    "            x_new = x + t*newton_step #calculate new x\n",
    "            if np.all(x_new > 0): #if all components are larger than zero we perform backtracking line search with alpha and beta\n",
    "                while f(x_new, Q) > f(x, Q) + alpha*t*grad.T @ newton_step: #perform back tracking line search for as long as the new x does not give us a better function value\n",
    "                    t *= beta \n",
    "                    x_new = x + t*newton_step \n",
    "                x = x_new \n",
    "                break #the outer while loop is broken as we have found an x that is in the dominion and minimizes the objective function\n",
    "            else: #if the new x has components that are not larger than zero we decrease t\n",
    "                t /= 2\n",
    "              \n",
    "    return x\n",
    "        "
   ]
  },
  {
   "cell_type": "code",
   "execution_count": 20,
   "id": "0dab1693",
   "metadata": {},
   "outputs": [],
   "source": [
    "#Define the conditions for your problem\n",
    "\n",
    "#size of problem\n",
    "n = 40 \n",
    "\n",
    "#initial point\n",
    "x0 = np.ones((n, 1))\n",
    "\n",
    "#generate a symmetric positive definite matrix Q\n",
    "B = np.random.rand(n, n)\n",
    "Q = np.dot(B.T, B)\n"
   ]
  },
  {
   "cell_type": "code",
   "execution_count": 21,
   "id": "1a1430d8",
   "metadata": {},
   "outputs": [
    {
     "name": "stdout",
     "output_type": "stream",
     "text": [
      "The vector x that minimizes the objective function is \n",
      " [[0.0478519 ]\n",
      " [0.05274344]\n",
      " [0.05061823]\n",
      " [0.05784136]\n",
      " [0.0481692 ]\n",
      " [0.04666499]\n",
      " [0.04724321]\n",
      " [0.05466165]\n",
      " [0.04730643]\n",
      " [0.05153765]\n",
      " [0.05510438]\n",
      " [0.0498908 ]\n",
      " [0.042     ]\n",
      " [0.04877352]\n",
      " [0.04221119]\n",
      " [0.04267882]\n",
      " [0.04982482]\n",
      " [0.05049349]\n",
      " [0.0504039 ]\n",
      " [0.04952192]\n",
      " [0.05457131]\n",
      " [0.0479559 ]\n",
      " [0.04172272]\n",
      " [0.04990455]\n",
      " [0.05351094]\n",
      " [0.04841067]\n",
      " [0.0523608 ]\n",
      " [0.07494164]\n",
      " [0.05196723]\n",
      " [0.0493124 ]\n",
      " [0.04568351]\n",
      " [0.04920897]\n",
      " [0.05217469]\n",
      " [0.05558946]\n",
      " [0.04646484]\n",
      " [0.0459391 ]\n",
      " [0.0557661 ]\n",
      " [0.05846199]\n",
      " [0.04834519]\n",
      " [0.06344649]]\n",
      "The function value of that vector x is equal to \n",
      " [[139.4596127]]\n"
     ]
    }
   ],
   "source": [
    "#Solve the problem using Newton's method\n",
    "\n",
    "x_optimal = newtons_method(x0, Q)\n",
    "\n",
    "print(\"The vector x that minimizes the objective function is \\n\", x_optimal)\n",
    "print(\"The function value of that vector x is equal to \\n\", f(x_optimal, Q))\n",
    "\n"
   ]
  }
 ],
 "metadata": {
  "kernelspec": {
   "display_name": "Python 3 (ipykernel)",
   "language": "python",
   "name": "python3"
  },
  "language_info": {
   "codemirror_mode": {
    "name": "ipython",
    "version": 3
   },
   "file_extension": ".py",
   "mimetype": "text/x-python",
   "name": "python",
   "nbconvert_exporter": "python",
   "pygments_lexer": "ipython3",
   "version": "3.11.5"
  }
 },
 "nbformat": 4,
 "nbformat_minor": 5
}
