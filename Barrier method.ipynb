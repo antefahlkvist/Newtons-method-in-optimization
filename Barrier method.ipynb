{
 "cells": [
  {
   "cell_type": "markdown",
   "id": "6f466516",
   "metadata": {},
   "source": [
    "Implement a barrier method for solving:\n",
    "\n",
    "$\\min \\frac{1}{2}x^TQx + b^Tx$\n",
    "\n",
    "subject to $x \\geq 0$.\n"
   ]
  },
  {
   "cell_type": "code",
   "execution_count": 1,
   "id": "bcc01e28",
   "metadata": {},
   "outputs": [],
   "source": [
    "#pip install numpy\n"
   ]
  },
  {
   "cell_type": "code",
   "execution_count": 2,
   "id": "8f271c4e",
   "metadata": {},
   "outputs": [],
   "source": [
    "import numpy as np"
   ]
  },
  {
   "cell_type": "code",
   "execution_count": 3,
   "id": "0dd4ebb6",
   "metadata": {},
   "outputs": [],
   "source": [
    "#Define the objective function\n",
    "\n",
    "def original_f(x, Q, b):\n",
    "    return 0.5 * x.T @ Q @ x + b.T @ x\n"
   ]
  },
  {
   "cell_type": "code",
   "execution_count": 4,
   "id": "4ee2204f",
   "metadata": {},
   "outputs": [],
   "source": [
    "def barrier_f(x, Q, b, t):\n",
    "    return t*(0.5 * x.T @ Q @ x + b.T @ x) - np.sum(np.log(x)) "
   ]
  },
  {
   "cell_type": "code",
   "execution_count": 5,
   "id": "128fe43e",
   "metadata": {},
   "outputs": [],
   "source": [
    "#Define the gradient of the objective function\n",
    "\n",
    "def gradient_barrier_f(x, Q, b, t):\n",
    "    return t*(Q @ x + b) - 1/x\n"
   ]
  },
  {
   "cell_type": "code",
   "execution_count": 6,
   "id": "22b9a749",
   "metadata": {},
   "outputs": [],
   "source": [
    "#Define the Hessian of the objective function\n",
    "\n",
    "def hessian_barrier_f(x, Q, b, t):\n",
    "    n = len(x)\n",
    "    H = np.zeros((n, n))\n",
    "    for i in range(n):\n",
    "        H[i, i] = 1 / x[i]**2\n",
    "    return t*Q + H\n"
   ]
  },
  {
   "cell_type": "code",
   "execution_count": 7,
   "id": "036657f6",
   "metadata": {},
   "outputs": [],
   "source": [
    "#Define a function that can guarantee a vector with at least one negative component\n",
    "\n",
    "def generate_vector_with_negative(size, mean=0, std=1):\n",
    "    # Generate a vector from normal distribution\n",
    "    vector = np.random.normal(mean, std, size)\n",
    "    \n",
    "    # Check if all elements are positive\n",
    "    if np.all(vector >= 0):\n",
    "        # Choose a random index and negate the corresponding element\n",
    "        random_index = np.random.randint(0, size)\n",
    "        vector[random_index] *= -1\n",
    "    \n",
    "    # Reshape the vector to be a column vector\n",
    "    vector = vector.reshape(-1, 1)\n",
    "    \n",
    "    return vector\n"
   ]
  },
  {
   "cell_type": "code",
   "execution_count": 8,
   "id": "4a972dd7",
   "metadata": {},
   "outputs": [],
   "source": [
    "#Define function for barrier method\n",
    "\n",
    "def barrier_method(x_init, Q, b, t, mu, inner_tol = 1e-10, outer_tol = 1e-10, max_iter = 100):\n",
    "    \n",
    "    x = x_init\n",
    "    alpha = 0.2\n",
    "    beta = 0.5\n",
    "    m = len(x)\n",
    "    \n",
    "    for __ in range(max_iter):\n",
    "        for _ in range(max_iter): #starting Newton's method\n",
    "            grad = gradient_barrier_f(x, Q, b, t) #calculate gradient of the barrier function\n",
    "            hess = hessian_barrier_f(x, Q, b, t) #calculate hessian of the barrier function\n",
    "            newton_step = -np.linalg.solve(hess, grad) #calculate newton step\n",
    "            newton_step_norm = np.linalg.norm(newton_step)\n",
    "            stop_criterion = (newton_step_norm ** 2)/2 #calculate stop criterion, a.k.a lambda squared divided by two\n",
    "            print(\"Inner decrement: \", stop_criterion)\n",
    "            if stop_criterion <= inner_tol: #exit newtons method if the stop criterion is smaller than our tolerance level \n",
    "                break\n",
    "            \n",
    "            #if we the norm of the newton step isn't sufficiently small we iterate with step length t\n",
    "            #making sure no component exit the dominion of x by adjusting step length t\n",
    "            step_length = 1.0 #initial step length\n",
    "            while True:\n",
    "                x_new = x + step_length*newton_step #calculate new x\n",
    "                if np.all(x_new > 0): #if all components are larger than zero we perform backtracking line search with alpha and beta\n",
    "                    while barrier_f(x_new, Q, b, t) > barrier_f(x, Q, b, t) + alpha*step_length*grad.T @ newton_step: #perform back tracking line search for as long as the new x does not give us a better function value\n",
    "                        step_length *= beta \n",
    "                        x_new = x + step_length*newton_step \n",
    "                    x = x_new \n",
    "                    break \n",
    "                else: #if the new x has components that are not larger than zero we decrease t\n",
    "                    step_length /= 2\n",
    "        print(\"Outer decrement: \", m/t)         \n",
    "        if m/t < outer_tol: #exit outer loop if m/t is less than our tolerance level\n",
    "            break\n",
    "        else:\n",
    "            t *= mu #else we increase t and start Newton's method over again\n",
    "    return x\n",
    "        "
   ]
  },
  {
   "cell_type": "code",
   "execution_count": 9,
   "id": "0dab1693",
   "metadata": {},
   "outputs": [],
   "source": [
    "#Define the conditions for your problem\n",
    "\n",
    "#size of problem\n",
    "n = 5\n",
    "\n",
    "#decide parameters\n",
    "mu = 15\n",
    "t = 1\n",
    "\n",
    "#initial point\n",
    "x0 = np.ones((n, 1))\n",
    "\n",
    "#generate a symmetric positive definite matrix Q\n",
    "B = np.random.rand(n, n)\n",
    "Q = B.T @ B\n",
    "\n",
    "#generate vector b with at least one negative element\n",
    "b = generate_vector_with_negative(len(x0))\n"
   ]
  },
  {
   "cell_type": "code",
   "execution_count": 10,
   "id": "1a1430d8",
   "metadata": {},
   "outputs": [
    {
     "name": "stdout",
     "output_type": "stream",
     "text": [
      "Inner decrement:  5.803426190969354\n",
      "Inner decrement:  1.90424520701686\n",
      "Inner decrement:  0.1565110600453717\n",
      "Inner decrement:  0.0064781417410287555\n",
      "Inner decrement:  0.0007386185359777351\n",
      "Inner decrement:  5.269716162445579e-06\n",
      "Inner decrement:  2.071227830622304e-10\n",
      "Inner decrement:  3.097532820155473e-19\n",
      "Outer decrement:  5.0\n",
      "Inner decrement:  12.580510716651876\n",
      "Inner decrement:  2.746765217338432\n",
      "Inner decrement:  0.8180233436369978\n",
      "Inner decrement:  0.016907478264781922\n",
      "Inner decrement:  0.012107755787076594\n",
      "Inner decrement:  3.7621621339633335e-06\n",
      "Inner decrement:  4.0437766879843865e-09\n",
      "Inner decrement:  6.4754604352955196e-15\n",
      "Outer decrement:  0.3333333333333333\n",
      "Inner decrement:  0.6582013217603798\n",
      "Inner decrement:  0.03306300954671422\n",
      "Inner decrement:  8.55933497099539e-05\n",
      "Inner decrement:  7.648825351285191e-05\n",
      "Inner decrement:  3.825961221358456e-07\n",
      "Inner decrement:  3.429286471545989e-08\n",
      "Inner decrement:  1.8549472501177614e-10\n",
      "Inner decrement:  5.4904375486616444e-15\n",
      "Outer decrement:  0.022222222222222223\n",
      "Inner decrement:  0.006632722437679183\n",
      "Inner decrement:  5.673576022027172e-07\n",
      "Inner decrement:  4.4126875897180013e-07\n",
      "Inner decrement:  2.0425854618629118e-09\n",
      "Inner decrement:  3.164700667209951e-10\n",
      "Inner decrement:  3.419794875449266e-12\n",
      "Outer decrement:  0.0014814814814814814\n",
      "Inner decrement:  3.1381975739822344e-05\n",
      "Inner decrement:  2.1146644322996224e-09\n",
      "Inner decrement:  1.6275009885591249e-09\n",
      "Inner decrement:  1.7848139499337416e-15\n",
      "Outer decrement:  9.876543209876543e-05\n",
      "Inner decrement:  1.4167251166337108e-07\n",
      "Inner decrement:  1.0024703767070883e-11\n",
      "Outer decrement:  6.584362139917696e-06\n",
      "Inner decrement:  8.046783057098929e-09\n",
      "Inner decrement:  1.950660174706777e-11\n",
      "Outer decrement:  4.3895747599451304e-07\n",
      "Inner decrement:  6.19085241022357e-10\n",
      "Inner decrement:  3.017232948287368e-11\n",
      "Outer decrement:  2.9263831732967536e-08\n",
      "Inner decrement:  1.5148041592552054e-11\n",
      "Outer decrement:  1.950922115531169e-09\n",
      "Inner decrement:  7.891969781937815e-10\n",
      "Inner decrement:  1.2978836871530712e-11\n",
      "Outer decrement:  1.300614743687446e-10\n",
      "Inner decrement:  1.0676034473579099e-08\n",
      "Inner decrement:  1.3937893872239667e-11\n",
      "Outer decrement:  8.670764957916307e-12\n",
      "The vector x that minimizes the objective function is \n",
      " [[2.89050480e-10]\n",
      " [5.41960874e-10]\n",
      " [3.00854459e+00]\n",
      " [3.09617321e-10]\n",
      " [2.28517092e-09]]\n",
      "The function value of that vector x is equal to \n",
      " [[-3.37427386]]\n"
     ]
    }
   ],
   "source": [
    "#Solve the problem using a barrier method\n",
    "\n",
    "x_optimal = barrier_method(x0, Q, b, t, mu)\n",
    "\n",
    "print(\"The vector x that minimizes the objective function is \\n\", x_optimal)\n",
    "print(\"The function value of that vector x is equal to \\n\", original_f(x_optimal, Q, b))\n",
    "\n"
   ]
  },
  {
   "cell_type": "code",
   "execution_count": null,
   "id": "8a48f50c",
   "metadata": {},
   "outputs": [],
   "source": []
  }
 ],
 "metadata": {
  "kernelspec": {
   "display_name": "Python 3 (ipykernel)",
   "language": "python",
   "name": "python3"
  },
  "language_info": {
   "codemirror_mode": {
    "name": "ipython",
    "version": 3
   },
   "file_extension": ".py",
   "mimetype": "text/x-python",
   "name": "python",
   "nbconvert_exporter": "python",
   "pygments_lexer": "ipython3",
   "version": "3.11.1"
  }
 },
 "nbformat": 4,
 "nbformat_minor": 5
}
